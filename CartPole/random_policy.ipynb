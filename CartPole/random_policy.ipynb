{
  "nbformat": 4,
  "nbformat_minor": 0,
  "metadata": {
    "colab": {
      "name": "random_policy.ipynb",
      "provenance": [],
      "collapsed_sections": []
    },
    "kernelspec": {
      "name": "python3",
      "display_name": "Python 3"
    }
  },
  "cells": [
    {
      "cell_type": "code",
      "metadata": {
        "id": "tk9pTfuCU-j4",
        "colab_type": "code",
        "colab": {
          "base_uri": "https://localhost:8080/",
          "height": 34
        },
        "outputId": "5877b6e8-9b3d-4880-9696-3f7292e276e2"
      },
      "source": [
        "import gym\n",
        "import torch\n",
        "env=gym.make('CartPole-v0')\n",
        "n_state=env.observation_space.shape[0]\n",
        "n_action=env.action_space.n\n",
        "print(n_state,n_action)"
      ],
      "execution_count": 3,
      "outputs": [
        {
          "output_type": "stream",
          "text": [
            "4 2\n"
          ],
          "name": "stdout"
        }
      ]
    },
    {
      "cell_type": "code",
      "metadata": {
        "id": "pIp1WuBNX-Up",
        "colab_type": "code",
        "colab": {}
      },
      "source": [
        "def run_episode(env, weight,render=False):\n",
        "  state=env.reset()\n",
        "  total_reward=0\n",
        "  is_done=False\n",
        "  while not is_done:\n",
        "    if render:\n",
        "      env.render()\n",
        "      \n",
        "    state=torch.from_numpy(state).float()\n",
        "    action=torch.argmax(torch.matmul(state,weight))\n",
        "    state, reward, is_done, _ =env.step(action.item())\n",
        "    total_reward+=reward\n",
        "  return total_reward\n",
        "\n"
      ],
      "execution_count": 0,
      "outputs": []
    },
    {
      "cell_type": "code",
      "metadata": {
        "id": "SSAUMnwaHqAE",
        "colab_type": "code",
        "colab": {}
      },
      "source": [
        "episodes_in_series=200\n",
        "def run_series(env,weight):\n",
        "  series_reward=0\n",
        "  for _ in range(episodes_in_series):\n",
        "    episide_reward=run_episode(env, weight)\n",
        "    series_reward+=episide_reward\n",
        "  \n",
        "  return series_reward"
      ],
      "execution_count": 0,
      "outputs": []
    },
    {
      "cell_type": "code",
      "metadata": {
        "id": "6triQhQ-xNUs",
        "colab_type": "code",
        "colab": {}
      },
      "source": [
        "n_series=100\n",
        "best_total_reward=0\n",
        "best_weight=None\n",
        "total_rewards=[]"
      ],
      "execution_count": 0,
      "outputs": []
    },
    {
      "cell_type": "code",
      "metadata": {
        "id": "amYlXKAwy1NC",
        "colab_type": "code",
        "colab": {
          "base_uri": "https://localhost:8080/",
          "height": 51
        },
        "outputId": "0092e492-2d6b-4dd4-d8b2-9bc4bd59617f"
      },
      "source": [
        "%%time\n",
        "for series in range(n_series):\n",
        "  weight=torch.rand(n_state,n_action)\n",
        "  total_reward=run_series(env, weight)\n",
        "  # print('Episode {}:{}'.format(episode+1, total_reward))\n",
        "  if total_reward>best_total_reward:\n",
        "    best_weight=weight\n",
        "    best_total_reward=total_reward\n",
        "\n",
        "  total_rewards.append(total_reward)"
      ],
      "execution_count": 8,
      "outputs": [
        {
          "output_type": "stream",
          "text": [
            "CPU times: user 40.5 s, sys: 6.55 ms, total: 40.6 s\n",
            "Wall time: 40.6 s\n"
          ],
          "name": "stdout"
        }
      ]
    },
    {
      "cell_type": "code",
      "metadata": {
        "id": "Q03SSOmN0KbH",
        "colab_type": "code",
        "colab": {
          "base_uri": "https://localhost:8080/",
          "height": 34
        },
        "outputId": "9bdcdf84-2171-4c53-c1f7-7e9c9624bf1b"
      },
      "source": [
        "print(best_total_reward)"
      ],
      "execution_count": 9,
      "outputs": [
        {
          "output_type": "stream",
          "text": [
            "40000.0\n"
          ],
          "name": "stdout"
        }
      ]
    },
    {
      "cell_type": "code",
      "metadata": {
        "id": "vwLuhXuY0U5Q",
        "colab_type": "code",
        "colab": {}
      },
      "source": [
        "# print(best_weight)"
      ],
      "execution_count": 0,
      "outputs": []
    },
    {
      "cell_type": "code",
      "metadata": {
        "id": "6DQpXnWt0Yaq",
        "colab_type": "code",
        "colab": {
          "base_uri": "https://localhost:8080/",
          "height": 34
        },
        "outputId": "54e5841f-dd03-42c0-9690-1d0ee2ba3880"
      },
      "source": [
        "n_episode_eval=2000\n",
        "total_rewards_eval=[]\n",
        "\n",
        "for episode_eval in range(n_episode_eval):\n",
        "  total_reward=run_episode(env, best_weight)\n",
        "  total_rewards_eval.append(total_reward)\n",
        "\n",
        "print(sum(total_rewards_eval)/n_episode_eval)"
      ],
      "execution_count": 12,
      "outputs": [
        {
          "output_type": "stream",
          "text": [
            "200.0\n"
          ],
          "name": "stdout"
        }
      ]
    },
    {
      "cell_type": "code",
      "metadata": {
        "id": "9JBsMdfR1PP_",
        "colab_type": "code",
        "colab": {}
      },
      "source": [
        "# run_episode(env, best_weight, True)"
      ],
      "execution_count": 0,
      "outputs": []
    },
    {
      "cell_type": "code",
      "metadata": {
        "id": "-G5hXg8BNBhY",
        "colab_type": "code",
        "colab": {}
      },
      "source": [
        ""
      ],
      "execution_count": 0,
      "outputs": []
    }
  ]
}